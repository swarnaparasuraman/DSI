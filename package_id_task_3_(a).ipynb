{
  "nbformat": 4,
  "nbformat_minor": 0,
  "metadata": {
    "colab": {
      "provenance": [],
      "mount_file_id": "1cmPPt7VWn8RXRz2gV3FbHGRMRadIJATX",
      "authorship_tag": "ABX9TyNM6e1hnkM+wRK037jTdTzb",
      "include_colab_link": true
    },
    "kernelspec": {
      "name": "python3",
      "display_name": "Python 3"
    },
    "language_info": {
      "name": "python"
    }
  },
  "cells": [
    {
      "cell_type": "markdown",
      "metadata": {
        "id": "view-in-github",
        "colab_type": "text"
      },
      "source": [
        "<a href=\"https://colab.research.google.com/github/swarnaparasuraman/DSI/blob/main/package_id_task_3_(a).ipynb\" target=\"_parent\"><img src=\"https://colab.research.google.com/assets/colab-badge.svg\" alt=\"Open In Colab\"/></a>"
      ]
    },
    {
      "cell_type": "code",
      "execution_count": null,
      "metadata": {
        "id": "KyuiWfrZuRlk",
        "colab": {
          "base_uri": "https://localhost:8080/"
        },
        "outputId": "944ba105-95d1-431b-d384-54caee5bc701"
      },
      "outputs": [
        {
          "output_type": "stream",
          "name": "stdout",
          "text": [
            "Mounted at /content/drive\n"
          ]
        }
      ],
      "source": [
        "from google.colab import drive\n",
        "drive.mount('/content/drive')"
      ]
    },
    {
      "cell_type": "code",
      "source": [
        "import pandas as pd\n",
        "input_file = '/content/drive/MyDrive/Test-Int-Package-Data.xlsx'\n",
        "df = pd.read_excel(input_file)\n",
        "\n",
        "\n",
        "package_hotels = {}\n",
        "\n",
        "for _, row in df.iterrows():\n",
        "    package_id = row['Package ID-1']\n",
        "    hotel_info = {\n",
        "        'hotel id': row['Hotel ID'],\n",
        "        'no of nights': row['SN-01'],\n",
        "        'hotel name': row['Property'],\n",
        "        'room category': row['Room Category'],\n",
        "        'price per night': row['IDR to INR (CP) - 1 Night']\n",
        "    }\n",
        "\n",
        "    if package_id in package_hotels:\n",
        "        package_hotels[package_id].append(hotel_info)\n",
        "    else:\n",
        "        package_hotels[package_id] = [hotel_info]\n",
        "\n",
        "unique_packages_data = []\n",
        "\n",
        "for package_id, hotels in package_hotels.items():\n",
        "    package_data = {\n",
        "        'package id': package_id,\n",
        "        'location': df.loc[df['Package ID-1'] == package_id, 'Location'].values[0],\n",
        "        'destination': df.loc[df['Package ID-1'] == package_id, 'Destination'].values[0],\n",
        "        'theme': \"Honeymoon\",\n",
        "    }\n",
        "\n",
        "    for i, hotel_info in enumerate(hotels, start=1):\n",
        "        package_data.update({\n",
        "            f'hotel id {i}': hotel_info['hotel id'],\n",
        "            f'no of nights {i}': hotel_info['no of nights'],\n",
        "            f'hotel name {i}': hotel_info['hotel name'],\n",
        "            f'room category {i}': hotel_info['room category'],\n",
        "            f'price per night {i}': hotel_info['price per night']\n",
        "        })\n",
        "\n",
        "    unique_packages_data.append(package_data)\n",
        "\n",
        "unique_packages_df = pd.DataFrame(unique_packages_data)\n",
        "\n",
        "\n",
        "output_file = '/content/drive/MyDrive/Untitled spreadsheet.xlsx'\n",
        "unique_packages_df.to_excel(output_file, index=False)"
      ],
      "metadata": {
        "id": "BFIpbctauz3p",
        "colab": {
          "base_uri": "https://localhost:8080/"
        },
        "outputId": "e326634a-a844-47b4-815e-de4f8bce8d2f"
      },
      "execution_count": null,
      "outputs": [
        {
          "output_type": "stream",
          "name": "stderr",
          "text": [
            "/usr/local/lib/python3.10/dist-packages/openpyxl/worksheet/_reader.py:329: UserWarning: Data Validation extension is not supported and will be removed\n",
            "  warn(msg)\n"
          ]
        }
      ]
    }
  ]
}